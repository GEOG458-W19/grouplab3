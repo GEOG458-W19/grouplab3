{
 "cells": [
  {
   "cell_type": "markdown",
   "metadata": {},
   "source": [
    "# Task 1\n",
    "The US"
   ]
  },
  {
   "cell_type": "code",
   "execution_count": null,
   "metadata": {},
   "outputs": [],
   "source": []
  },
  {
   "cell_type": "markdown",
   "metadata": {},
   "source": [
    "### Task 2.2: WA Counties with the Largest Populations"
   ]
  },
  {
   "cell_type": "code",
   "execution_count": 111,
   "metadata": {
    "scrolled": false
   },
   "outputs": [
    {
     "data": {
      "text/html": [
       "<div>\n",
       "<style scoped>\n",
       "    .dataframe tbody tr th:only-of-type {\n",
       "        vertical-align: middle;\n",
       "    }\n",
       "\n",
       "    .dataframe tbody tr th {\n",
       "        vertical-align: top;\n",
       "    }\n",
       "\n",
       "    .dataframe thead th {\n",
       "        text-align: right;\n",
       "    }\n",
       "</style>\n",
       "<table border=\"1\" class=\"dataframe\">\n",
       "  <thead>\n",
       "    <tr style=\"text-align: right;\">\n",
       "      <th></th>\n",
       "      <th>Population (2017)</th>\n",
       "    </tr>\n",
       "    <tr>\n",
       "      <th>County Name</th>\n",
       "      <th></th>\n",
       "    </tr>\n",
       "  </thead>\n",
       "  <tbody>\n",
       "    <tr>\n",
       "      <th>King</th>\n",
       "      <td>2153700.0</td>\n",
       "    </tr>\n",
       "    <tr>\n",
       "      <th>Pierce</th>\n",
       "      <td>859400.0</td>\n",
       "    </tr>\n",
       "    <tr>\n",
       "      <th>Snohomish</th>\n",
       "      <td>789400.0</td>\n",
       "    </tr>\n",
       "    <tr>\n",
       "      <th>Spokane</th>\n",
       "      <td>499800.0</td>\n",
       "    </tr>\n",
       "    <tr>\n",
       "      <th>Clark</th>\n",
       "      <td>471000.0</td>\n",
       "    </tr>\n",
       "    <tr>\n",
       "      <th>Thurston</th>\n",
       "      <td>276900.0</td>\n",
       "    </tr>\n",
       "    <tr>\n",
       "      <th>Kitsap</th>\n",
       "      <td>264300.0</td>\n",
       "    </tr>\n",
       "    <tr>\n",
       "      <th>Yakima</th>\n",
       "      <td>253000.0</td>\n",
       "    </tr>\n",
       "    <tr>\n",
       "      <th>Whatcom</th>\n",
       "      <td>216300.0</td>\n",
       "    </tr>\n",
       "    <tr>\n",
       "      <th>Benton</th>\n",
       "      <td>193500.0</td>\n",
       "    </tr>\n",
       "  </tbody>\n",
       "</table>\n",
       "</div>"
      ],
      "text/plain": [
       "             Population (2017)\n",
       "County Name                   \n",
       "King                 2153700.0\n",
       "Pierce                859400.0\n",
       "Snohomish             789400.0\n",
       "Spokane               499800.0\n",
       "Clark                 471000.0\n",
       "Thurston              276900.0\n",
       "Kitsap                264300.0\n",
       "Yakima                253000.0\n",
       "Whatcom               216300.0\n",
       "Benton                193500.0"
      ]
     },
     "execution_count": 111,
     "metadata": {},
     "output_type": "execute_result"
    }
   ],
   "source": [
    "import pandas as pd\n",
    "import geopandas\n",
    "\n",
    "#read files into geopandas\n",
    "waShape = geopandas.read_file(\"saep_bg10/saep_bg10.shp\")\n",
    "countyName = geopandas.read_file(\"WashingtonFIPS.dbf\")\n",
    "\n",
    "#join the shapefile and county name file together\n",
    "wa_st = pd.merge(waShape, countyName, left_on = ['COUNTYFP10'], right_on = ['FIPSCounty'], how = 'left')\n",
    "\n",
    "#create dataframe of countyname and 2017 population\n",
    "cnty_pop = wa_st[['CountyName', 'POP2017']]\n",
    "\n",
    "#additional functions to dataframe\n",
    "cnty_pop = cnty_pop.groupby(['CountyName'])\n",
    "cnty_pop = cnty_pop.sum()\n",
    "cnty_pop = cnty_pop.sort_values(by = ['POP2017'], ascending=False)\n",
    "cnty_pop.columns = ['Population (2017)']\n",
    "cnty_pop.index.names = ['County Name']\n",
    "\n",
    "#print out county dataframe of county name and population\n",
    "cnty_pop.head(10)\n"
   ]
  },
  {
   "cell_type": "code",
   "execution_count": 19,
   "metadata": {},
   "outputs": [
    {
     "ename": "ImportError",
     "evalue": "No module named arcpy",
     "output_type": "error",
     "traceback": [
      "\u001b[0;31m---------------------------------------------------------------------------\u001b[0m",
      "\u001b[0;31mImportError\u001b[0m                               Traceback (most recent call last)",
      "\u001b[0;32m<ipython-input-19-1c58a0d28969>\u001b[0m in \u001b[0;36m<module>\u001b[0;34m()\u001b[0m\n\u001b[1;32m      4\u001b[0m \u001b[0msys\u001b[0m\u001b[0;34m.\u001b[0m\u001b[0mpath\u001b[0m\u001b[0;34m.\u001b[0m\u001b[0mappend\u001b[0m\u001b[0;34m(\u001b[0m\u001b[0;34m'C:\\\\Program Files (x86)\\\\ArcGIS\\\\Desktop10.6\\\\arcpy'\u001b[0m\u001b[0;34m)\u001b[0m\u001b[0;34m\u001b[0m\u001b[0m\n\u001b[1;32m      5\u001b[0m \u001b[0msys\u001b[0m\u001b[0;34m.\u001b[0m\u001b[0mpath\u001b[0m\u001b[0;34m.\u001b[0m\u001b[0mappend\u001b[0m\u001b[0;34m(\u001b[0m\u001b[0;34m'C:\\\\Program Files (x86)\\\\ArcGIS\\\\Desktop10.6\\\\ArcToolbox\\\\Scripts'\u001b[0m\u001b[0;34m)\u001b[0m\u001b[0;34m\u001b[0m\u001b[0m\n\u001b[0;32m----> 6\u001b[0;31m \u001b[0;32mimport\u001b[0m \u001b[0marcpy\u001b[0m\u001b[0;34m\u001b[0m\u001b[0m\n\u001b[0m\u001b[1;32m      7\u001b[0m \u001b[0;34m\u001b[0m\u001b[0m\n\u001b[1;32m      8\u001b[0m \u001b[0;31m#create workspace\u001b[0m\u001b[0;34m\u001b[0m\u001b[0;34m\u001b[0m\u001b[0m\n",
      "\u001b[0;31mImportError\u001b[0m: No module named arcpy"
     ]
    }
   ],
   "source": [
    "#PART 2. CREATES SHAPEFILE FOR EACH COUNTY\n",
    "import sys\n",
    "sys.path.append('C:\\\\Program Files (x86)\\\\ArcGIS\\\\Desktop10.6\\\\bin')\n",
    "sys.path.append('C:\\\\Program Files (x86)\\\\ArcGIS\\\\Desktop10.6\\\\arcpy')\n",
    "sys.path.append('C:\\\\Program Files (x86)\\\\ArcGIS\\\\Desktop10.6\\\\ArcToolbox\\\\Scripts')\n",
    "import arcpy\n",
    "\n",
    "#create workspace\n",
    "arcpy.env.workspace=\"C:\\\\Users\\\\Ginue Han\\\\geog458_assignment\\\\lab3\"\n",
    "\n",
    "#join saep_bg10.shp and WashingtonFIPS by county FIPS. add the county name field to shape file.\n",
    "arcpy.JoinField_management(\"saep_bg10\\\\saep_bg10.shp\",\"COUNTYFP10\", \"WashingtonFIPS.dbf\", \"FIPSCounty\",[\"CountyName\"])\n",
    "\n",
    "#create a list with the fields names of the shapefile\n",
    "field_names = [str(f.name) for f in arcpy.ListFields(\"saep_bg10\\\\saep_bg10.shp\")]\n",
    "\n",
    "#list to store all county names in WA\n",
    "county_names =[]\n",
    "#create cursor for shapefile to loop through each row\n",
    "cursor = arcpy.da.SearchCursor(\"saep_bg10\\\\saep_bg10.shp\", \"CountyName\")\n",
    "#uses cursor to loop through each row in shapefile inorder to add unique countynames into countynames list\n",
    "for row in cursor:\n",
    "    if str(row[0]) not in county_names:\n",
    "        county_names.append(str(row[0]))\n",
    "del cursor\n",
    "\n",
    "#loops through county names and uses the Select_analysis tool to select rows from saep_bg10 shapefile that are from the currently\n",
    "#selected county and creates a new shapefile for that county. \n",
    "for county in county_names:\n",
    "    in_features = \"saep_bg10\\\\saep_bg10.shp\"\n",
    "    out_feature_class = \"CountyData\\\\{0}.shp\".format(county)\n",
    "    where_clause='\"CountyName\" = \\'{0}\\''.format(county)\n",
    "    arcpy.Select_analysis(in_features, out_feature_class, where_clause)"
   ]
  },
  {
   "cell_type": "markdown",
   "metadata": {},
   "source": [
    "# Part 3 Urban vs. Rural"
   ]
  },
  {
   "cell_type": "code",
   "execution_count": 144,
   "metadata": {},
   "outputs": [
    {
     "name": "stdout",
     "output_type": "stream",
     "text": [
      "Percentage of population urbanized in 2017 is 21.26 percent\n",
      "Percentage of land area urbanized in 2017 is 14.71 percent\n",
      "Percentage of block groups that urbanized from 2007 - 2017 is 8.70 percent\n",
      "Percentage of block groups that deurbanized from 2007 - 2017 is 91.30 percent\n"
     ]
    }
   ],
   "source": [
    "# PART 3. Urban vs. Rural\n",
    "\n",
    "#3.1     \n",
    "#Add column to give each block value of urban or rural based on 2017\n",
    "for index, row in wa_st.iterrows():\n",
    "    if row['POP2017']>1921.638:\n",
    "        wa_st.loc[index,'Urban/Rural']='Urban'\n",
    "    else:\n",
    "        wa_st.loc[index,'Urban/Rural']='Rural'\n",
    "wa_st\n",
    "\n",
    "#3.2\n",
    "#Caclulates and prints out what percentage of population is urbanized for 2017\n",
    "#Sum up the populations that are 'Urban'\n",
    "urbanCount = (float)((wa_st['Urban/Rural'] =='Urban').sum())\n",
    "#Sum up the populations that are 'Rural'\n",
    "ruralCount = (float)((wa_st['Urban/Rural'] =='Rural').sum())\n",
    "#Calculate the percentage of the population urbanized\n",
    "percent = 100.00 *( urbanCount / (urbanCount+ruralCount))\n",
    "print 'Percentage of population urbanized in 2017 is %.2f percent' %  percent\n",
    "\n",
    "#3.3\n",
    "#Calculates and prints out what percentage of land area is urbanized for 2017\n",
    "#Making dataframe of only rows that are 'Urban', then sum up the land area \n",
    "urban = wa_st['Urban/Rural'] == 'Urban'\n",
    "wa_st_urban = wa_st[urban]\n",
    "urbanCountLA = (float)((wa_st_urban['ALANDMI']).sum())\n",
    "#Making dataframe of only rows that are 'Rural', then sum up the land area \n",
    "rural = wa_st['Urban/Rural'] == 'Rural'\n",
    "wa_st_rural = wa_st[rural]\n",
    "ruralCountLA = (float)((wa_st_rural['ALANDMI']).sum())\n",
    "#Calculate total land area of urbanized and the percentage of it\n",
    "percentLA = 100.00 *( urbanCountLA / (urbanCountLA+ruralCountLA))\n",
    "print 'Percentage of land area urbanized in 2017 is %.2f percent' %  percentLA\n",
    "\n",
    "#3.4\n",
    "#Add column to the shapefile datatable for whether block groups have urbanized, no change in category, or deurbanized: 2007 v 20017 \n",
    "for index, row in waShape.iterrows():\n",
    "   # value = row['POP2017'] - row['POP2007'] >1921.638\n",
    "    if  row['POP2007'] >= 1464.438: #urban in 2007 \n",
    "        if row['POP2017'] >= 1921.638: #urban in 2017 \n",
    "            waShape.loc[index,'Urban/Rural 2007-2017']='no change in category'\n",
    "        else: #not urban in 2017 \n",
    "            waShape.loc[index,'Urban/Rural 2007-2017']='deurbanized'\n",
    "    else: #not urban in 2007 \n",
    "        if row['POP2017'] >= 1921.638: #urban in 2017 \n",
    "            waShape.loc[index,'Urban/Rural 2007-2017']='urbanized'\n",
    "        else: #not urban in 2017 \n",
    "            waShape.loc[index,'Urban/Rural 2007-2017']='no change in category'\n",
    "waShape\n",
    "\n",
    "#5. Write code that calculates and prints out how many block groups urbanized and how many deurbanized over the previous decade.\n",
    "urbanCountChange = (float)((waShape['Urban/Rural 2007-2017'] =='urbanized').sum())\n",
    "deurbanCountChange = (float)((waShape['Urban/Rural 2007-2017'] =='deurbanized').sum())\n",
    "percentChangeUrban = 100.00 *( urbanCountChange/ (urbanCountChange+deurbanCountChange))\n",
    "print 'Percentage of block groups that urbanized from 2007 - 2017 is %.2f percent' %  percentChangeUrban\n",
    "percentChangeDeurban = 100.00 *( deurbanCountChange/ (urbanCountChange+deurbanCountChange))\n",
    "print 'Percentage of block groups that deurbanized from 2007 - 2017 is %.2f percent' %  percentChangeDeurban"
   ]
  },
  {
   "cell_type": "code",
   "execution_count": null,
   "metadata": {},
   "outputs": [],
   "source": []
  },
  {
   "cell_type": "code",
   "execution_count": null,
   "metadata": {},
   "outputs": [],
   "source": []
  },
  {
   "cell_type": "code",
   "execution_count": null,
   "metadata": {},
   "outputs": [],
   "source": []
  }
 ],
 "metadata": {
  "kernelspec": {
   "display_name": "Python 2",
   "language": "python",
   "name": "python2"
  },
  "language_info": {
   "codemirror_mode": {
    "name": "ipython",
    "version": 2
   },
   "file_extension": ".py",
   "mimetype": "text/x-python",
   "name": "python",
   "nbconvert_exporter": "python",
   "pygments_lexer": "ipython2",
   "version": "2.7.15"
  }
 },
 "nbformat": 4,
 "nbformat_minor": 2
}
